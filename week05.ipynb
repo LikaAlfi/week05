{
  "nbformat": 4,
  "nbformat_minor": 0,
  "metadata": {
    "colab": {
      "provenance": [],
      "authorship_tag": "ABX9TyMOo/an6ciiYBAYHkc18pe1",
      "include_colab_link": true
    },
    "kernelspec": {
      "name": "python3",
      "display_name": "Python 3"
    },
    "language_info": {
      "name": "python"
    }
  },
  "cells": [
    {
      "cell_type": "markdown",
      "metadata": {
        "id": "view-in-github",
        "colab_type": "text"
      },
      "source": [
        "<a href=\"https://colab.research.google.com/github/LikaAlfi/week05/blob/main/week05.ipynb\" target=\"_parent\"><img src=\"https://colab.research.google.com/assets/colab-badge.svg\" alt=\"Open In Colab\"/></a>"
      ]
    },
    {
      "cell_type": "code",
      "execution_count": null,
      "metadata": {
        "id": "RwY5OC19kHsi"
      },
      "outputs": [],
      "source": [
        "if condition_1:\n",
        "    if condition_1_a:\n",
        "        ...\n",
        "    elif condition_1_b:\n",
        "        ...\n",
        "    else:\n",
        "        ...\n",
        "elif condition_2:\n",
        "    if condition_2_a:\n",
        "        ...\n",
        "    else:\n",
        "        ...\n",
        "elif condition_3:\n",
        "    if condition_3_a:\n",
        "        ...\n",
        "else:\n",
        "        ..."
      ]
    },
    {
      "cell_type": "code",
      "source": [
        "num = 5\n",
        "\n",
        "if num > 0:\n",
        "  print(\"The number is positive.\")\n",
        "else:\n",
        "  if num <0:\n",
        "    print(\"The nymber is negative.\")\n",
        "  else:\n",
        "    print(\"The number is zero\")"
      ],
      "metadata": {
        "colab": {
          "base_uri": "https://localhost:8080/"
        },
        "id": "Sl45nxQ7mJfz",
        "outputId": "11340958-af63-412b-c6f4-d35e51a3cb93"
      },
      "execution_count": null,
      "outputs": [
        {
          "output_type": "stream",
          "name": "stdout",
          "text": [
            "The number is positive.\n"
          ]
        }
      ]
    },
    {
      "cell_type": "code",
      "source": [
        "# Example 2 : Age classifier\n",
        "age = 35\n",
        "\n",
        "if age >= 60:\n",
        "  print(\"You are a senior citizen.\")\n",
        "else:\n",
        "  if age >= 18:\n",
        "    print(\"You are a adult.\")\n",
        "  else:\n",
        "    print(\"You are a teenager.\")"
      ],
      "metadata": {
        "colab": {
          "base_uri": "https://localhost:8080/"
        },
        "id": "kCVk4plbmxFj",
        "outputId": "7526399a-14e4-4983-9c93-ad7403c2dc72"
      },
      "execution_count": null,
      "outputs": [
        {
          "output_type": "stream",
          "name": "stdout",
          "text": [
            "You are a adult.\n"
          ]
        }
      ]
    },
    {
      "cell_type": "code",
      "source": [
        "# Weekly exercise 1\n",
        "# Membuat kode program untuk enunjukkan tahun kabisat\n",
        "\n",
        "tahun = int(input(\"tahun = \"))\n",
        "\n",
        "if tahun % 4 == 0:\n",
        "  print(tahun, \"termasuk tahun kabisat\")\n",
        "else:\n",
        "  print(tahun, \"bukan termasuk tahun kabisat\")"
      ],
      "metadata": {
        "colab": {
          "base_uri": "https://localhost:8080/"
        },
        "id": "sBPzSdVfncLT",
        "outputId": "5755a735-161c-4428-f1fd-c944e967d03e"
      },
      "execution_count": null,
      "outputs": [
        {
          "output_type": "stream",
          "name": "stdout",
          "text": [
            "tahun = 2016\n",
            "2016 termasuk tahun kabisat\n"
          ]
        }
      ]
    },
    {
      "cell_type": "code",
      "source": [
        "# Weekly exercise 2\n",
        "# Membuat kode program untuk menunjukkan amgka terbesar\n",
        "\n",
        "x = int(input(\"angka1 = \"))\n",
        "y = int(input(\"angka2 = \"))\n",
        "z = int(input(\"angka3 = \"))\n",
        "\n",
        "if x > y and x > z:\n",
        "  print('Angka terbesar adalah ', x)\n",
        "elif y > x and y > z:\n",
        "  print('Angka terbesar adalah ', y)\n",
        "else:\n",
        "  print('Angka terbesar adalah ', z)"
      ],
      "metadata": {
        "colab": {
          "base_uri": "https://localhost:8080/"
        },
        "id": "n3CcBm4qu369",
        "outputId": "7e861ee5-f351-4330-84cb-41c3b2bb7369"
      },
      "execution_count": null,
      "outputs": [
        {
          "output_type": "stream",
          "name": "stdout",
          "text": [
            "angka1 = 78\n",
            "angka2 = 29\n",
            "angka3 = 55\n",
            "Angka terbesar adalah  78\n"
          ]
        }
      ]
    },
    {
      "cell_type": "code",
      "source": [
        "# Wekkly exercise 3\n",
        "# Membuat kode program untuk menghitung jumlah\n",
        "\n",
        "Konsumen = input(\"Jenis Konsumen : \")\n",
        "Total  = float(input(\"Total Belanja : \"))\n",
        "\n",
        "if Total > 100.000:\n",
        "  diskon = 0.03\n",
        "  if Konsumen == \"member\":\n",
        "    diskon += 0.02\n",
        "elif Total > 200.000:\n",
        "  diskon = 0.04\n",
        "  if Konsumen == \"member\":\n",
        "    diskon += 0.02\n",
        "\n",
        "TotalBelanja = Total-Total*diskon\n",
        "print(f\"Total Belanja yang dibayar : Rp{TotalBelanja:.2f}\")\n",
        "\n"
      ],
      "metadata": {
        "id": "oc9-W9Jg0KsB",
        "colab": {
          "base_uri": "https://localhost:8080/"
        },
        "outputId": "21c1a0eb-cce6-439b-a7e4-efcb2161bc72"
      },
      "execution_count": null,
      "outputs": [
        {
          "output_type": "stream",
          "name": "stdout",
          "text": [
            "Jenis Konsumen : member\n",
            "Total Belanja : 500.000\n",
            "Total Belanja yang dibayar : Rp475.00\n"
          ]
        }
      ]
    },
    {
      "cell_type": "code",
      "source": [
        "username = input(\"masukkan username : \")\n",
        "email    = input(\"masukkan email    : \")\n",
        "password = input(\"masukkan password : \")\n",
        "\n",
        "if len(username) == 0:\n",
        "  print(\"username tidak boleh kosong\")\n",
        "else:\n",
        "  if \"@\" not in email:\n",
        "    print(\"alamat email tidak valid\")\n",
        "  else:\n",
        "    if len(password) < 8:\n",
        "      print(\"password harus memiliki minimal 8 karakter\")\n",
        "    else:\n",
        "      print(\"Registrasi berhasil\")\n",
        "      print(\"username :\", username)\n",
        "      print(\"email    :\", email)\n",
        "      print(\"password :\", password)"
      ],
      "metadata": {
        "id": "MXAemspBy-aB",
        "colab": {
          "base_uri": "https://localhost:8080/"
        },
        "outputId": "8761bffb-8c2a-4d1f-db43-6dd4ac4b5877"
      },
      "execution_count": 2,
      "outputs": [
        {
          "output_type": "stream",
          "name": "stdout",
          "text": [
            "masukkan username : fadlika alfi nurrochmah\n",
            "masukkan email    : fadlikalika6@gmail.com\n",
            "masukkan password : halohalobandung10\n",
            "Registrasi berhasil\n",
            "username : fadlika alfi nurrochmah\n",
            "email    : fadlikalika6@gmail.com\n",
            "password : halohalobandung10\n"
          ]
        }
      ]
    }
  ]
}